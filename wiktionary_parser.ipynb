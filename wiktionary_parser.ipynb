{
 "cells": [
  {
   "cell_type": "markdown",
   "metadata": {},
   "source": [
    "# Setup"
   ]
  },
  {
   "cell_type": "markdown",
   "metadata": {},
   "source": [
    "## Libraries"
   ]
  },
  {
   "cell_type": "code",
   "execution_count": 1,
   "metadata": {},
   "outputs": [],
   "source": [
    "import re\n",
    "import xmltodict\n",
    "import pandas as pd\n",
    "import os\n",
    "import requests\n",
    "import bz2"
   ]
  },
  {
   "cell_type": "raw",
   "metadata": {},
   "source": [
    "import dask\n",
    "import dask.bag as db"
   ]
  },
  {
   "cell_type": "code",
   "execution_count": 2,
   "metadata": {},
   "outputs": [],
   "source": [
    "import logging\n",
    "logging.basicConfig( format='%(asctime)s - %(levelname)s - %(message)s', level=logging.INFO)\n",
    "logger = logging.getLogger()"
   ]
  },
  {
   "cell_type": "markdown",
   "metadata": {},
   "source": [
    "## Conf"
   ]
  },
  {
   "cell_type": "code",
   "execution_count": 3,
   "metadata": {
    "code_folding": []
   },
   "outputs": [],
   "source": [
    "extract_fields = {'sin': 'sinonimi',\n",
    "                  'ant': 'contrari',\n",
    "                  'rel': 'relazioni',\n",
    "                  'verb form': 'verbi',\n",
    "                  'der': 'derivati',\n",
    "                  'alter': 'alterati',\n",
    "                  'ipon': 'iponomi',\n",
    "                  'iperon': 'iperonimi',\n",
    "                  'var': 'varianti',\n",
    "                  'noconf': 'nonconfondere',\n",
    "                  'acron': 'acronimo',\n",
    "                  'coni': 'coniugazione'\n",
    "                 }\n",
    "exclude_fields = ['raw', 'text', 'proc_text']\n",
    "part_sentence = {'agg': 'aggettivo',\n",
    "                 'agg form': 'aggettivo',\n",
    "                 'sost': 'sostantivo',\n",
    "                 'sost form': 'sostantivo',\n",
    "                 'verb form': 'forma verbale',\n",
    "                 'verb': 'verbo',\n",
    "                 'avv': 'avverbio',\n",
    "                 'nome': 'nome',\n",
    "                 'loc nom': 'locuzione nominale',\n",
    "                 'acron': 'acronimo',\n",
    "                 'inter': 'interiezione',\n",
    "                 'cong': 'congiunzione',\n",
    "                 'prep': 'preposizione',\n",
    "                 'art': 'articolo',\n",
    "                 'pron': 'pronome',\n",
    "                 'espr': 'espressione',\n",
    "                 'loc inter': 'locuzione',\n",
    "                 'agg num': 'aggettivo',\n",
    "                 'loc cong': 'locuzione',\n",
    "                 'loc avv': 'locuzione',\n",
    "                 'log agg': 'locuzione',\n",
    "                 'agg poss': 'aggettivo',\n",
    "                 'pron poss': 'pronome',\n",
    "                 'pron form': 'pronome',\n",
    "                 'agg dim': 'aggettivo',\n",
    "                 'pron dim': 'pronome',\n",
    "                 'pref': 'prefisso',\n",
    "                 'loc verb': 'locuzione',\n",
    "                 'loc prep': 'locuzione',\n",
    "                 'suff': 'suffisso',\n",
    "                 'conf': 'confisso',\n",
    "                 'prefissoide': 'prefissoide'\n",
    "                }"
   ]
  },
  {
   "cell_type": "markdown",
   "metadata": {},
   "source": [
    "## Functions"
   ]
  },
  {
   "cell_type": "code",
   "execution_count": 4,
   "metadata": {
    "code_folding": [
     0
    ]
   },
   "outputs": [],
   "source": [
    "def create_dir(directory):\n",
    "    if not os.path.exists(directory):\n",
    "        os.makedirs(directory)\n",
    "        logger.info(\"Created directory '{}'\".format(directory))"
   ]
  },
  {
   "cell_type": "code",
   "execution_count": 5,
   "metadata": {
    "code_folding": [
     0
    ]
   },
   "outputs": [],
   "source": [
    "def download_unzip_dataset(version=\"latest\"):\n",
    "\n",
    "    url = 'https://dumps.wikimedia.org/itwiktionary/' \\\n",
    "        '{version}/itwiktionary-{version}-pages-articles-multistream.xml.bz2'\n",
    "    url = url.format(version=version)\n",
    "    \n",
    "    create_dir('data')\n",
    "    compressed_fname = 'data/itwiktionary.xml.bz2'\n",
    "    \n",
    "    logger.info(\"Downloading from {}\".format(url))\n",
    "    r = requests.get(url, allow_redirects=True)\n",
    "\n",
    "    logger.info(\"Saving to {}\".format(compressed_fname))\n",
    "    open(compressed_fname, 'wb').write(r.content)\n",
    "\n",
    "    logger.info(\"Uncompressing\")\n",
    "    zip_file = bz2.BZ2File(compressed_fname)\n",
    "    data = zip_file.read()\n",
    "    out_fname = compressed_fname[:-4]\n",
    "    open(out_fname, 'wb').write(data)\n",
    "    \n",
    "    logger.info(\"Output in {}\".format(out_fname))"
   ]
  },
  {
   "cell_type": "code",
   "execution_count": 6,
   "metadata": {
    "code_folding": [
     0
    ]
   },
   "outputs": [],
   "source": [
    "def read_xml(fname):\n",
    "    with open(fname) as fd:\n",
    "        wikitionary = xmltodict.parse(fd.read())\n",
    "    \n",
    "    logger.info(\"Read {} items from {}\".format(len(wikitionary), fname))\n",
    "\n",
    "    return wikitionary"
   ]
  },
  {
   "cell_type": "code",
   "execution_count": 7,
   "metadata": {
    "code_folding": []
   },
   "outputs": [],
   "source": [
    "def filter_pages(wikitionary):\n",
    "    \n",
    "    excluded_pages = ['Pagina principale']\n",
    "    italian_str = \"{{-it-}}\"\n",
    "    \n",
    "    pages = [{'raw': x}\n",
    "             for x in wikitionary.get('mediawiki').get('page')\n",
    "             if (not re.match(\"\\w*:.*\", x['title']))\n",
    "                and (x['title'] not in excluded_pages)\n",
    "                and (italian_str in x.get('revision', {}).get('text', {}).get('#text', ''))\n",
    "            ]\n",
    "\n",
    "    logger.info(\"Kept {} out of {} pages\".format(len(pages), len(wikitionary.get('mediawiki').get('page'))))\n",
    "    \n",
    "    return pages"
   ]
  },
  {
   "cell_type": "code",
   "execution_count": 8,
   "metadata": {
    "code_folding": [
     0
    ]
   },
   "outputs": [],
   "source": [
    "def extract_title(doc):\n",
    "    \n",
    "    doc = doc.copy()\n",
    "    doc['title'] = doc['raw']['title']\n",
    "    doc['multiword'] = len(doc['title'].split(' ')) > 1\n",
    "    \n",
    "    return doc"
   ]
  },
  {
   "cell_type": "code",
   "execution_count": 9,
   "metadata": {
    "code_folding": [
     0
    ]
   },
   "outputs": [],
   "source": [
    "def extract_text(doc):\n",
    "    doc['text'] = doc['raw'].get('revision', {}).get('text', {}).get('#text', '')\n",
    "    doc['text'] = re.sub('<[^<]+?>', '', doc['text'])\n",
    "    \n",
    "    return doc"
   ]
  },
  {
   "cell_type": "code",
   "execution_count": 10,
   "metadata": {
    "code_folding": [
     0
    ]
   },
   "outputs": [],
   "source": [
    "def extract_vedi(doc):\n",
    "    \n",
    "    ret = []\n",
    "    \n",
    "    all_vedi = re.findall(r'{{Vedi\\|\\w*}}', doc['text'])\n",
    "    for single in all_vedi:\n",
    "        ret.append(single.replace('{{Vedi|', '').replace('}}', ''))\n",
    "    \n",
    "    if len(ret) > 0:\n",
    "        doc['vedi'] = ret\n",
    "        \n",
    "    return doc"
   ]
  },
  {
   "cell_type": "code",
   "execution_count": 11,
   "metadata": {
    "code_folding": [
     0
    ]
   },
   "outputs": [],
   "source": [
    "def preprocess_text(doc):\n",
    "\n",
    "    text_info = re.sub(r'[A-Za-z0-9\\s{}\\|\\n]*==\\s*{{-it-}}\\s*==\\n', '', doc['text'])\n",
    "    text_info = re.sub('==\\s*{{-\\w+-}}\\s*==', 'miotestodasostituire', text_info)\\\n",
    "        .split('miotestodasostituire')[0]\n",
    "    \n",
    "    proc_text = dict()\n",
    "    for section in text_info.split('\\n\\n'):\n",
    "        if section.startswith('[[File:'):\n",
    "            continue\n",
    "        sec_title = re.search(\"{\\s*-\\s*(.+)\\s*-\", section.split('\\n')[0])\n",
    "        if sec_title:\n",
    "            proc_text[sec_title.group(1)] = '\\n'.join(section.split('\\n')[1:])\n",
    "    \n",
    "    doc['proc_text'] = proc_text\n",
    "    \n",
    "    return doc"
   ]
  },
  {
   "cell_type": "code",
   "execution_count": 12,
   "metadata": {
    "code_folding": [
     0
    ]
   },
   "outputs": [],
   "source": [
    "def extract_links(text):\n",
    "    \n",
    "    m = re.findall(r'\\[\\[(\\w+)\\]\\]', text)\n",
    "    if m:\n",
    "        return m\n",
    "    else:\n",
    "        return None"
   ]
  },
  {
   "cell_type": "code",
   "execution_count": 13,
   "metadata": {
    "code_folding": []
   },
   "outputs": [],
   "source": [
    "def extract_fields_link(doc, ext_fields):\n",
    "    \n",
    "    for k, v in ext_fields.items():\n",
    "        temp = extract_links(doc.get('proc_text', {}).get(k, ''))\n",
    "        if temp:\n",
    "            doc[v] = list(set(temp))\n",
    "    \n",
    "    return doc"
   ]
  },
  {
   "cell_type": "code",
   "execution_count": 14,
   "metadata": {
    "code_folding": [
     0
    ]
   },
   "outputs": [],
   "source": [
    "def extract_pos(doc, fields):\n",
    "    \n",
    "    pos = set()\n",
    "    \n",
    "    for k in doc.get('proc_text', {}).keys():\n",
    "        temp = fields.get(k)\n",
    "        if temp:\n",
    "            pos.add(temp)\n",
    "    \n",
    "    doc['pos'] = list(pos)\n",
    "    \n",
    "    return doc"
   ]
  },
  {
   "cell_type": "code",
   "execution_count": 15,
   "metadata": {
    "code_folding": [
     0
    ]
   },
   "outputs": [],
   "source": [
    "def filter_output(doc, exclude_fields):\n",
    "\n",
    "    return {k: v for k, v in doc.items() if k not in exclude_fields}"
   ]
  },
  {
   "cell_type": "markdown",
   "metadata": {},
   "source": [
    "# Get data"
   ]
  },
  {
   "cell_type": "code",
   "execution_count": 16,
   "metadata": {
    "scrolled": true
   },
   "outputs": [
    {
     "name": "stderr",
     "output_type": "stream",
     "text": [
      "2020-06-02 15:14:37,535 - INFO - Created directory 'data'\n",
      "2020-06-02 15:14:37,536 - INFO - Downloading from https://dumps.wikimedia.org/itwiktionary/latest/itwiktionary-latest-pages-articles-multistream.xml.bz2\n",
      "2020-06-02 15:15:16,435 - INFO - Saving to data/itwiktionary.xml.bz2\n",
      "2020-06-02 15:15:16,474 - INFO - Uncompressing\n",
      "2020-06-02 15:15:28,419 - INFO - Output in data/itwiktionary.xml\n"
     ]
    }
   ],
   "source": [
    "if not os.path.isfile(\"data/itwiktionary.xml\"):\n",
    "    download_unzip_dataset()"
   ]
  },
  {
   "cell_type": "markdown",
   "metadata": {},
   "source": [
    "# Read data"
   ]
  },
  {
   "cell_type": "code",
   "execution_count": 17,
   "metadata": {},
   "outputs": [
    {
     "name": "stderr",
     "output_type": "stream",
     "text": [
      "2020-06-02 15:16:58,982 - INFO - Read 1 items from data/itwiktionary.xml\n"
     ]
    }
   ],
   "source": [
    "wikitionary = read_xml(\"data/itwiktionary.xml\")"
   ]
  },
  {
   "cell_type": "code",
   "execution_count": 18,
   "metadata": {},
   "outputs": [
    {
     "name": "stderr",
     "output_type": "stream",
     "text": [
      "2020-06-02 15:17:00,360 - INFO - Kept 361992 out of 533815 pages\n"
     ]
    }
   ],
   "source": [
    "pages = filter_pages(wikitionary)"
   ]
  },
  {
   "cell_type": "raw",
   "metadata": {},
   "source": [
    "pages = db.from_sequence(pages, npartitions=1+round(len(pages)/50000))"
   ]
  },
  {
   "cell_type": "markdown",
   "metadata": {},
   "source": [
    "# Extract single"
   ]
  },
  {
   "cell_type": "code",
   "execution_count": 19,
   "metadata": {},
   "outputs": [
    {
     "data": {
      "text/plain": [
       "dict_keys(['raw'])"
      ]
     },
     "execution_count": 19,
     "metadata": {},
     "output_type": "execute_result"
    }
   ],
   "source": [
    "doc = [p for p in pages if p['raw']['title']=='giovedì'][0]\n",
    "doc.keys()"
   ]
  },
  {
   "cell_type": "raw",
   "metadata": {},
   "source": [
    "doc = pages.take(1)[0]\n",
    "doc.keys()"
   ]
  },
  {
   "cell_type": "code",
   "execution_count": 20,
   "metadata": {},
   "outputs": [
    {
     "data": {
      "text/plain": [
       "dict_keys(['raw', 'title', 'multiword'])"
      ]
     },
     "execution_count": 20,
     "metadata": {},
     "output_type": "execute_result"
    }
   ],
   "source": [
    "doc = extract_title(doc)\n",
    "doc.keys()"
   ]
  },
  {
   "cell_type": "code",
   "execution_count": 21,
   "metadata": {},
   "outputs": [],
   "source": [
    "doc = extract_text(doc)"
   ]
  },
  {
   "cell_type": "code",
   "execution_count": 22,
   "metadata": {},
   "outputs": [],
   "source": [
    "doc = extract_vedi(doc)\n",
    "doc.get('vedi')"
   ]
  },
  {
   "cell_type": "code",
   "execution_count": 23,
   "metadata": {},
   "outputs": [],
   "source": [
    "doc = preprocess_text(doc)"
   ]
  },
  {
   "cell_type": "code",
   "execution_count": 24,
   "metadata": {},
   "outputs": [],
   "source": [
    "doc = extract_fields_link(doc, extract_fields)"
   ]
  },
  {
   "cell_type": "code",
   "execution_count": 25,
   "metadata": {},
   "outputs": [],
   "source": [
    "doc = extract_pos(doc, part_sentence)"
   ]
  },
  {
   "cell_type": "code",
   "execution_count": 26,
   "metadata": {},
   "outputs": [
    {
     "data": {
      "text/plain": [
       "dict_keys(['raw', 'title', 'multiword', 'text', 'proc_text', 'relazioni', 'varianti', 'pos'])"
      ]
     },
     "execution_count": 26,
     "metadata": {},
     "output_type": "execute_result"
    }
   ],
   "source": [
    "doc.keys()"
   ]
  },
  {
   "cell_type": "code",
   "execution_count": 27,
   "metadata": {},
   "outputs": [],
   "source": [
    "doc = filter_output(doc, exclude_fields)"
   ]
  },
  {
   "cell_type": "code",
   "execution_count": 28,
   "metadata": {
    "scrolled": true
   },
   "outputs": [
    {
     "data": {
      "text/plain": [
       "{'title': 'giovedì',\n",
       " 'multiword': False,\n",
       " 'relazioni': ['settimana',\n",
       "  'anno',\n",
       "  'mercoledì',\n",
       "  'notte',\n",
       "  'mese',\n",
       "  'sabato',\n",
       "  'martedì',\n",
       "  'giorno',\n",
       "  'domenica',\n",
       "  'venerdì',\n",
       "  'lunedì'],\n",
       " 'varianti': ['giovedí'],\n",
       " 'pos': ['sostantivo']}"
      ]
     },
     "execution_count": 28,
     "metadata": {},
     "output_type": "execute_result"
    }
   ],
   "source": [
    "doc"
   ]
  },
  {
   "cell_type": "markdown",
   "metadata": {},
   "source": [
    "# Extract pipeline"
   ]
  },
  {
   "cell_type": "code",
   "execution_count": 29,
   "metadata": {},
   "outputs": [],
   "source": [
    "create_dir('data')"
   ]
  },
  {
   "cell_type": "code",
   "execution_count": 30,
   "metadata": {},
   "outputs": [],
   "source": [
    "parsed = []\n",
    "for doc in pages:\n",
    "    doc = extract_title(doc)\n",
    "    doc = extract_text(doc)\n",
    "    doc = extract_vedi(doc)\n",
    "    doc = preprocess_text(doc)\n",
    "    doc = extract_fields_link(doc, extract_fields)\n",
    "    doc = extract_pos(doc, part_sentence)\n",
    "    doc = filter_output(doc, exclude_fields)\n",
    "    parsed.append(doc)"
   ]
  },
  {
   "cell_type": "code",
   "execution_count": 31,
   "metadata": {},
   "outputs": [],
   "source": [
    "pd.DataFrame(parsed).to_csv('data/wiktionary.csv', index=False)"
   ]
  },
  {
   "cell_type": "markdown",
   "metadata": {},
   "source": [
    "# Extract pipeline (Dask)"
   ]
  },
  {
   "cell_type": "raw",
   "metadata": {
    "code_folding": []
   },
   "source": [
    "dask_computation = pages\\\n",
    "    .map(extract_title)\\\n",
    "    .map(extract_text)\\\n",
    "    .map(extract_vedi)\\\n",
    "    .map(preprocess_text)\\\n",
    "    .map(extract_fields_link, ext_fields=extract_fields)\\\n",
    "    .map(extract_pos, fields=part_sentence)\\\n",
    "    .map(filter_output, exclude_fields=exclude_fields)\\\n",
    "    .to_dataframe()"
   ]
  },
  {
   "cell_type": "raw",
   "metadata": {},
   "source": [
    "dask_computation.visualize()"
   ]
  },
  {
   "cell_type": "raw",
   "metadata": {},
   "source": [
    "dask_computation.compute().to_csv('wikitionary.csv', index=False)"
   ]
  },
  {
   "cell_type": "raw",
   "metadata": {},
   "source": [
    "dask_computation.to_parquet('wikitionary.parquet', engine='pyarrow')"
   ]
  }
 ],
 "metadata": {
  "kernelspec": {
   "display_name": "Python 3",
   "language": "python",
   "name": "python3"
  },
  "language_info": {
   "codemirror_mode": {
    "name": "ipython",
    "version": 3
   },
   "file_extension": ".py",
   "mimetype": "text/x-python",
   "name": "python",
   "nbconvert_exporter": "python",
   "pygments_lexer": "ipython3",
   "version": "3.7.5"
  },
  "toc": {
   "base_numbering": 1,
   "nav_menu": {},
   "number_sections": true,
   "sideBar": true,
   "skip_h1_title": false,
   "title_cell": "Table of Contents",
   "title_sidebar": "Contents",
   "toc_cell": false,
   "toc_position": {},
   "toc_section_display": true,
   "toc_window_display": false
  }
 },
 "nbformat": 4,
 "nbformat_minor": 4
}
